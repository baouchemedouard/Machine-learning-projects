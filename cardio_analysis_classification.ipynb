{
  "nbformat": 4,
  "nbformat_minor": 0,
  "metadata": {
    "colab": {
      "name": "cardio_analysis_classification.ipynb",
      "provenance": [],
      "collapsed_sections": [],
      "mount_file_id": "1Y65p2gqjPRVE5hq33UdIhcE6usJpHC7A",
      "authorship_tag": "ABX9TyOhk9IdZgwGovlM9nkU6aM8",
      "include_colab_link": true
    },
    "kernelspec": {
      "name": "python3",
      "display_name": "Python 3"
    }
  },
  "cells": [
    {
      "cell_type": "markdown",
      "metadata": {
        "id": "view-in-github",
        "colab_type": "text"
      },
      "source": [
        "<a href=\"https://colab.research.google.com/github/sekhar0146/Machine-learning-projects/blob/master/cardio_analysis_classification.ipynb\" target=\"_parent\"><img src=\"https://colab.research.google.com/assets/colab-badge.svg\" alt=\"Open In Colab\"/></a>"
      ]
    },
    {
      "cell_type": "code",
      "metadata": {
        "id": "VbotsMLXkpL4",
        "colab_type": "code",
        "colab": {}
      },
      "source": [
        "import numpy as np\n",
        "import pandas as pd\n",
        "from sklearn.naive_bayes import GaussianNB\n",
        "from sklearn.ensemble import GradientBoostingClassifier\n",
        "from sklearn.ensemble import RandomForestClassifier\n",
        "from sklearn.neighbors import KNeighborsClassifier\n",
        "from sklearn.linear_model import LogisticRegression\n",
        "from xgboost import XGBClassifier"
      ],
      "execution_count": 67,
      "outputs": []
    },
    {
      "cell_type": "code",
      "metadata": {
        "id": "nDcqC3A9k2QU",
        "colab_type": "code",
        "colab": {
          "base_uri": "https://localhost:8080/",
          "height": 195
        },
        "outputId": "654610a6-59e5-4025-d635-3cd9417782f1"
      },
      "source": [
        "df = pd.read_csv(\"drive/My Drive/cardio/cardio_train.csv\", delimiter=\";\")\n",
        "df.head()"
      ],
      "execution_count": 77,
      "outputs": [
        {
          "output_type": "execute_result",
          "data": {
            "text/html": [
              "<div>\n",
              "<style scoped>\n",
              "    .dataframe tbody tr th:only-of-type {\n",
              "        vertical-align: middle;\n",
              "    }\n",
              "\n",
              "    .dataframe tbody tr th {\n",
              "        vertical-align: top;\n",
              "    }\n",
              "\n",
              "    .dataframe thead th {\n",
              "        text-align: right;\n",
              "    }\n",
              "</style>\n",
              "<table border=\"1\" class=\"dataframe\">\n",
              "  <thead>\n",
              "    <tr style=\"text-align: right;\">\n",
              "      <th></th>\n",
              "      <th>id</th>\n",
              "      <th>age</th>\n",
              "      <th>gender</th>\n",
              "      <th>height</th>\n",
              "      <th>weight</th>\n",
              "      <th>ap_hi</th>\n",
              "      <th>ap_lo</th>\n",
              "      <th>cholesterol</th>\n",
              "      <th>gluc</th>\n",
              "      <th>smoke</th>\n",
              "      <th>alco</th>\n",
              "      <th>active</th>\n",
              "      <th>cardio</th>\n",
              "    </tr>\n",
              "  </thead>\n",
              "  <tbody>\n",
              "    <tr>\n",
              "      <th>0</th>\n",
              "      <td>0</td>\n",
              "      <td>18393</td>\n",
              "      <td>2</td>\n",
              "      <td>168</td>\n",
              "      <td>62.0</td>\n",
              "      <td>110</td>\n",
              "      <td>80</td>\n",
              "      <td>1</td>\n",
              "      <td>1</td>\n",
              "      <td>0</td>\n",
              "      <td>0</td>\n",
              "      <td>1</td>\n",
              "      <td>0</td>\n",
              "    </tr>\n",
              "    <tr>\n",
              "      <th>1</th>\n",
              "      <td>1</td>\n",
              "      <td>20228</td>\n",
              "      <td>1</td>\n",
              "      <td>156</td>\n",
              "      <td>85.0</td>\n",
              "      <td>140</td>\n",
              "      <td>90</td>\n",
              "      <td>3</td>\n",
              "      <td>1</td>\n",
              "      <td>0</td>\n",
              "      <td>0</td>\n",
              "      <td>1</td>\n",
              "      <td>1</td>\n",
              "    </tr>\n",
              "    <tr>\n",
              "      <th>2</th>\n",
              "      <td>2</td>\n",
              "      <td>18857</td>\n",
              "      <td>1</td>\n",
              "      <td>165</td>\n",
              "      <td>64.0</td>\n",
              "      <td>130</td>\n",
              "      <td>70</td>\n",
              "      <td>3</td>\n",
              "      <td>1</td>\n",
              "      <td>0</td>\n",
              "      <td>0</td>\n",
              "      <td>0</td>\n",
              "      <td>1</td>\n",
              "    </tr>\n",
              "    <tr>\n",
              "      <th>3</th>\n",
              "      <td>3</td>\n",
              "      <td>17623</td>\n",
              "      <td>2</td>\n",
              "      <td>169</td>\n",
              "      <td>82.0</td>\n",
              "      <td>150</td>\n",
              "      <td>100</td>\n",
              "      <td>1</td>\n",
              "      <td>1</td>\n",
              "      <td>0</td>\n",
              "      <td>0</td>\n",
              "      <td>1</td>\n",
              "      <td>1</td>\n",
              "    </tr>\n",
              "    <tr>\n",
              "      <th>4</th>\n",
              "      <td>4</td>\n",
              "      <td>17474</td>\n",
              "      <td>1</td>\n",
              "      <td>156</td>\n",
              "      <td>56.0</td>\n",
              "      <td>100</td>\n",
              "      <td>60</td>\n",
              "      <td>1</td>\n",
              "      <td>1</td>\n",
              "      <td>0</td>\n",
              "      <td>0</td>\n",
              "      <td>0</td>\n",
              "      <td>0</td>\n",
              "    </tr>\n",
              "  </tbody>\n",
              "</table>\n",
              "</div>"
            ],
            "text/plain": [
              "   id    age  gender  height  weight  ap_hi  ap_lo  cholesterol  gluc  smoke  \\\n",
              "0   0  18393       2     168    62.0    110     80            1     1      0   \n",
              "1   1  20228       1     156    85.0    140     90            3     1      0   \n",
              "2   2  18857       1     165    64.0    130     70            3     1      0   \n",
              "3   3  17623       2     169    82.0    150    100            1     1      0   \n",
              "4   4  17474       1     156    56.0    100     60            1     1      0   \n",
              "\n",
              "   alco  active  cardio  \n",
              "0     0       1       0  \n",
              "1     0       1       1  \n",
              "2     0       0       1  \n",
              "3     0       1       1  \n",
              "4     0       0       0  "
            ]
          },
          "metadata": {
            "tags": []
          },
          "execution_count": 77
        }
      ]
    },
    {
      "cell_type": "code",
      "metadata": {
        "id": "jVeh07pulj1b",
        "colab_type": "code",
        "colab": {
          "base_uri": "https://localhost:8080/",
          "height": 252
        },
        "outputId": "78b7aeec-bb8b-405d-f4ec-abe9811ca013"
      },
      "source": [
        "# check for missing data\n",
        "df.isna().sum()"
      ],
      "execution_count": 39,
      "outputs": [
        {
          "output_type": "execute_result",
          "data": {
            "text/plain": [
              "id             0\n",
              "age            0\n",
              "gender         0\n",
              "height         0\n",
              "weight         0\n",
              "ap_hi          0\n",
              "ap_lo          0\n",
              "cholesterol    0\n",
              "gluc           0\n",
              "smoke          0\n",
              "alco           0\n",
              "active         0\n",
              "cardio         0\n",
              "dtype: int64"
            ]
          },
          "metadata": {
            "tags": []
          },
          "execution_count": 39
        }
      ]
    },
    {
      "cell_type": "code",
      "metadata": {
        "id": "Ps13AwrUnh_5",
        "colab_type": "code",
        "colab": {
          "base_uri": "https://localhost:8080/",
          "height": 252
        },
        "outputId": "884b177e-eebc-416f-8f60-067866176974"
      },
      "source": [
        "# check for non-numeric data\n",
        "df.dtypes"
      ],
      "execution_count": 40,
      "outputs": [
        {
          "output_type": "execute_result",
          "data": {
            "text/plain": [
              "id               int64\n",
              "age              int64\n",
              "gender           int64\n",
              "height           int64\n",
              "weight         float64\n",
              "ap_hi            int64\n",
              "ap_lo            int64\n",
              "cholesterol      int64\n",
              "gluc             int64\n",
              "smoke            int64\n",
              "alco             int64\n",
              "active           int64\n",
              "cardio           int64\n",
              "dtype: object"
            ]
          },
          "metadata": {
            "tags": []
          },
          "execution_count": 40
        }
      ]
    },
    {
      "cell_type": "code",
      "metadata": {
        "id": "lXfW66sxnpyJ",
        "colab_type": "code",
        "colab": {
          "base_uri": "https://localhost:8080/",
          "height": 34
        },
        "outputId": "b876bd86-778d-4523-dc7b-8486e835f67d"
      },
      "source": [
        "# Split into X and y (on train set)\n",
        "X = df.drop(\"cardio\", axis=1)\n",
        "y = df[\"cardio\"]\n",
        "\n",
        "X.shape, y.shape"
      ],
      "execution_count": 78,
      "outputs": [
        {
          "output_type": "execute_result",
          "data": {
            "text/plain": [
              "((70000, 12), (70000,))"
            ]
          },
          "metadata": {
            "tags": []
          },
          "execution_count": 78
        }
      ]
    },
    {
      "cell_type": "code",
      "metadata": {
        "id": "FqjqK_zjoFm2",
        "colab_type": "code",
        "colab": {
          "base_uri": "https://localhost:8080/",
          "height": 34
        },
        "outputId": "f9d10440-2f01-4e18-bae8-0f6184ce97b2"
      },
      "source": [
        "# split data into train and test sets\n",
        "from sklearn.model_selection import train_test_split\n",
        "from sklearn.metrics import classification_report\n",
        "\n",
        "X_train, X_test, y_train, y_test = train_test_split(X,\n",
        "                                                    y,\n",
        "                                                    test_size=0.2,\n",
        "                                                    random_state=40)\n",
        "X_train.shape, X_test.shape, y_train.shape, y_test.shape"
      ],
      "execution_count": 79,
      "outputs": [
        {
          "output_type": "execute_result",
          "data": {
            "text/plain": [
              "((56000, 12), (14000, 12), (56000,), (14000,))"
            ]
          },
          "metadata": {
            "tags": []
          },
          "execution_count": 79
        }
      ]
    },
    {
      "cell_type": "code",
      "metadata": {
        "id": "__3LiVRXpd23",
        "colab_type": "code",
        "colab": {
          "base_uri": "https://localhost:8080/",
          "height": 118
        },
        "outputId": "4701cca2-3b84-4714-867c-b9264a3ebf70"
      },
      "source": [
        "# ===========================================\n",
        "# Modele processing \n",
        "# ===========================================\n",
        "models={\"naive_bayes\": GaussianNB(),\n",
        "        \"GradientBoostingClassifier\": GradientBoostingClassifier(),\n",
        "        \"RandomForestClassifier\": RandomForestClassifier(),\n",
        "        \"KNeighborsClassifier\": KNeighborsClassifier(),\n",
        "        \"LogisticRegression\": LogisticRegression(),\n",
        "        \"XGBClassifier\": XGBClassifier()\n",
        "}\n",
        "\n",
        "# create an empty disctionary to save the model score \n",
        "result = {}\n",
        "\n",
        "# Run a loop to see all models score\n",
        "for model_name, model in models.items():\n",
        "    model.fit(X_train, y_train)\n",
        "    result[model_name] = model.score(X_train, y_train)\n",
        "\n",
        "# Print model score results:\n",
        "result"
      ],
      "execution_count": 71,
      "outputs": [
        {
          "output_type": "execute_result",
          "data": {
            "text/plain": [
              "{'GradientBoostingClassifier': 0.7394285714285714,\n",
              " 'KNeighborsClassifier': 0.7131071428571428,\n",
              " 'LogisticRegression': 0.698,\n",
              " 'RandomForestClassifier': 1.0,\n",
              " 'XGBClassifier': 0.7379285714285714,\n",
              " 'naive_bayes': 0.5743035714285715}"
            ]
          },
          "metadata": {
            "tags": []
          },
          "execution_count": 71
        }
      ]
    },
    {
      "cell_type": "code",
      "metadata": {
        "id": "c1SS3mkKuD6o",
        "colab_type": "code",
        "colab": {
          "base_uri": "https://localhost:8080/",
          "height": 134
        },
        "outputId": "1a499c50-45d9-43a7-8d62-9719cf2ead7e"
      },
      "source": [
        "from sklearn.model_selection import RandomizedSearchCV\n",
        "# RandomForestClassifier is giving most accurate score without hyperparameter tuning \n",
        "# Now Lets tune hyperparameters of GradientBoostingClassifier and  XGBClassifier\n",
        "# ------------------------------------------------------------\n",
        "# GradientBoostingClassifier Hyperparameter tuning with RandomizedSearchCV\n",
        "# ------------------------------------------------------------\n",
        "print(\"=== Hyperparameter tuning with GradientBoostingClassifier ===\")\n",
        "# different GradientBoostingClassifier hyperparameters\n",
        "rf_gb_grid = {\"n_estimators\": np.arange(200, 2000, 10),\n",
        "           \"max_depth\": [None, 3 , 5, 10, 20, 30],\n",
        "           \"min_samples_split\":np.arange(2, 20, 2),\n",
        "           \"min_samples_leaf\": np.arange(1, 20, 2),\n",
        "           \"max_features\": [0.5, 1, \"sqrt\", \"auto\"],\n",
        "           \"learning_rate\": [0.1, 0.05, 0.02, 0.01]\n",
        "           }\n",
        "\n",
        "# Instantiate GradientBoostingClassifier model\n",
        "rs_gb_model = RandomizedSearchCV(GradientBoostingClassifier(random_state=40),\n",
        "                              param_distributions=rf_gb_grid,\n",
        "                              n_iter=2,\n",
        "                              cv=5,\n",
        "                              verbose=True)\n",
        "# Fit the model\n",
        "rs_gb_model.fit(X_train, y_train)\n",
        "\n",
        "print(\"Best parameters for GradientBoostingClassifier ==>\")\n",
        "print(rs_gb_model.best_params_)\n",
        "print(\"GradientBoostingClassifier score : \", rs_gb_model.score(X_train, y_train))"
      ],
      "execution_count": 45,
      "outputs": [
        {
          "output_type": "stream",
          "text": [
            "=== Hyperparameter tuning with GradientBoostingClassifier ===\n",
            "Fitting 5 folds for each of 2 candidates, totalling 10 fits\n"
          ],
          "name": "stdout"
        },
        {
          "output_type": "stream",
          "text": [
            "[Parallel(n_jobs=1)]: Using backend SequentialBackend with 1 concurrent workers.\n",
            "[Parallel(n_jobs=1)]: Done  10 out of  10 | elapsed: 13.9min finished\n"
          ],
          "name": "stderr"
        },
        {
          "output_type": "stream",
          "text": [
            "Best parameters for GradientBoostingClassifier ==>\n",
            "{'n_estimators': 1040, 'min_samples_split': 8, 'min_samples_leaf': 11, 'max_features': 'sqrt', 'max_depth': 10, 'learning_rate': 0.01}\n",
            "GradientBoostingClassifier score :  0.7915\n"
          ],
          "name": "stdout"
        }
      ]
    },
    {
      "cell_type": "code",
      "metadata": {
        "id": "Pn7Eiz1ivBik",
        "colab_type": "code",
        "colab": {
          "base_uri": "https://localhost:8080/",
          "height": 134
        },
        "outputId": "6bcf8ba9-7495-41e7-af77-a890fa494142"
      },
      "source": [
        "from sklearn.model_selection import RandomizedSearchCV\n",
        "# ------------------------------------------------------------\n",
        "# XGBClassifier Hyperparameter tuning with RandomizedSearchCV\n",
        "# ------------------------------------------------------------\n",
        "print(\"=== Hyperparameter tuning with XGBClassifier ===\")\n",
        "# different XGBClassifier hyperparameters\n",
        "rs_xb_grid = {\n",
        "        'min_child_weight': [1, 5, 10],\n",
        "        'gamma': [0.5, 1, 1.5, 2, 5],\n",
        "        'subsample': [0.6, 0.8, 1.0],\n",
        "        'colsample_bytree': [0.6, 0.8, 1.0],\n",
        "        'max_depth': [3, 4, 5]\n",
        "        }\n",
        "\n",
        "# Instantiate XGBClassifier modl\n",
        "rs_xb_model = RandomizedSearchCV(XGBClassifier(random_state=40),\n",
        "                              param_distributions=rs_xb_grid,\n",
        "                              n_iter=2,\n",
        "                              cv=5,\n",
        "                              verbose=True)\n",
        "# Fit the model\n",
        "rs_xb_model.fit(X_train, y_train)\n",
        "\n",
        "print(\"Best parameters for XGBClassifier ==>\")\n",
        "print(rs_xb_model.best_params_)\n",
        "print(\"XGBClassifier score : \", rs_xb_model.score(X_train, y_train))"
      ],
      "execution_count": 46,
      "outputs": [
        {
          "output_type": "stream",
          "text": [
            "=== Hyperparameter tuning with XGBClassifier ===\n",
            "Fitting 5 folds for each of 2 candidates, totalling 10 fits\n"
          ],
          "name": "stdout"
        },
        {
          "output_type": "stream",
          "text": [
            "[Parallel(n_jobs=1)]: Using backend SequentialBackend with 1 concurrent workers.\n",
            "[Parallel(n_jobs=1)]: Done  10 out of  10 | elapsed:   28.9s finished\n"
          ],
          "name": "stderr"
        },
        {
          "output_type": "stream",
          "text": [
            "Best parameters for XGBClassifier ==>\n",
            "{'subsample': 1.0, 'min_child_weight': 1, 'max_depth': 3, 'gamma': 1.5, 'colsample_bytree': 1.0}\n",
            "XGBClassifier score :  0.7383035714285714\n"
          ],
          "name": "stdout"
        }
      ]
    },
    {
      "cell_type": "code",
      "metadata": {
        "id": "YCqU9LxC8CCZ",
        "colab_type": "code",
        "colab": {
          "base_uri": "https://localhost:8080/",
          "height": 34
        },
        "outputId": "e87e3538-28f6-4baa-949a-3f59e99732d7"
      },
      "source": [
        "# -------------------------------------------------------------------------------------------------------------------\n",
        "# Even after tuning XGBClassifier and GradientBoostingClassifier there is no much score than RandomForestClassifier\n",
        "# So, we are proceedng with RandomForestClassifier to predict the cardio \n",
        "# -------------------------------------------------------------------------------------------------------------------\n",
        "# Instantiate the model RandomForestClassifier\n",
        "rf_model = RandomForestClassifier(random_state=40)\n",
        "rf_model.fit(X_train, y_train)\n",
        "print(rf_model.score(X_train, y_train))"
      ],
      "execution_count": 80,
      "outputs": [
        {
          "output_type": "stream",
          "text": [
            "1.0\n"
          ],
          "name": "stdout"
        }
      ]
    },
    {
      "cell_type": "code",
      "metadata": {
        "id": "_JxALhbRBZoy",
        "colab_type": "code",
        "colab": {
          "base_uri": "https://localhost:8080/",
          "height": 1000
        },
        "outputId": "126189b3-ea51-4327-ad67-9db47221145b"
      },
      "source": [
        "# ---------------------------------------------------------------\n",
        "# Make predictions on test data set on RandomForestClassifier\n",
        "# ---------------------------------------------------------------\n",
        "print(\"========= Predict cardio ============ \")\n",
        "y_preds = rf_model.predict(X_test)\n",
        "print(y_preds)\n",
        "print(y_preds.shape)\n",
        "print(\"\")\n",
        "\n",
        "pd.set_option('display.max_columns', None)\n",
        "cardio_preds = rf_model.predict(df.drop(\"cardio\", axis=1))\n",
        "print(cardio_preds.shape)\n",
        "df[\"cardio_predict\"] = cardio_preds\n",
        "print(df.head(50))"
      ],
      "execution_count": 81,
      "outputs": [
        {
          "output_type": "stream",
          "text": [
            "========= Predict cardio ============ \n",
            "[1 0 0 ... 1 1 1]\n",
            "(14000,)\n",
            "\n",
            "(70000,)\n",
            "    id    age  gender  height  weight  ap_hi  ap_lo  cholesterol  gluc  smoke  \\\n",
            "0    0  18393       2     168    62.0    110     80            1     1      0   \n",
            "1    1  20228       1     156    85.0    140     90            3     1      0   \n",
            "2    2  18857       1     165    64.0    130     70            3     1      0   \n",
            "3    3  17623       2     169    82.0    150    100            1     1      0   \n",
            "4    4  17474       1     156    56.0    100     60            1     1      0   \n",
            "5    8  21914       1     151    67.0    120     80            2     2      0   \n",
            "6    9  22113       1     157    93.0    130     80            3     1      0   \n",
            "7   12  22584       2     178    95.0    130     90            3     3      0   \n",
            "8   13  17668       1     158    71.0    110     70            1     1      0   \n",
            "9   14  19834       1     164    68.0    110     60            1     1      0   \n",
            "10  15  22530       1     169    80.0    120     80            1     1      0   \n",
            "11  16  18815       2     173    60.0    120     80            1     1      0   \n",
            "12  18  14791       2     165    60.0    120     80            1     1      0   \n",
            "13  21  19809       1     158    78.0    110     70            1     1      0   \n",
            "14  23  14532       2     181    95.0    130     90            1     1      1   \n",
            "15  24  16782       2     172   112.0    120     80            1     1      0   \n",
            "16  25  21296       1     170    75.0    130     70            1     1      0   \n",
            "17  27  16747       1     158    52.0    110     70            1     3      0   \n",
            "18  28  17482       1     154    68.0    100     70            1     1      0   \n",
            "19  29  21755       2     162    56.0    120     70            1     1      1   \n",
            "20  30  19778       2     163    83.0    120     80            1     1      0   \n",
            "21  31  21413       1     157    69.0    130     80            1     1      0   \n",
            "22  32  23046       1     158    90.0    145     85            2     2      0   \n",
            "23  33  23376       2     156    45.0    110     60            1     1      0   \n",
            "24  35  16608       1     170    68.0    150     90            3     1      0   \n",
            "25  36  14453       1     153    65.0    130    100            2     1      0   \n",
            "26  37  19559       1     156    59.0    130     90            1     1      0   \n",
            "27  38  18085       1     159    78.0    120     80            1     1      0   \n",
            "28  39  14574       2     166    66.0    120     80            1     1      0   \n",
            "29  40  21057       2     169    74.0    130     70            1     3      0   \n",
            "30  42  18291       1     155   105.0    120     80            3     1      0   \n",
            "31  43  23186       1     169    71.0    140     90            3     1      0   \n",
            "32  44  14605       1     159    60.0    110     70            1     1      0   \n",
            "33  45  20652       1     160    73.0    130     85            1     1      0   \n",
            "34  46  21940       2     173    82.0    140     90            3     1      0   \n",
            "35  47  20404       1     163    55.0    120     80            1     1      0   \n",
            "36  49  18328       2     175    95.0    120     80            1     1      0   \n",
            "37  51  17976       1     164    70.0    130     90            1     1      0   \n",
            "38  52  23388       2     162    72.0    130     80            1     1      1   \n",
            "39  53  18126       1     165    70.0    140     90            1     1      0   \n",
            "40  54  19848       1     157    62.0    110     70            1     1      0   \n",
            "41  56  18274       1     178    68.0    110     80            1     1      0   \n",
            "42  57  21475       2     171    69.0    140     90            1     1      0   \n",
            "43  58  20556       2     159    63.0    120     60            1     1      0   \n",
            "44  59  19764       1     154    50.0    170     80            3     1      0   \n",
            "45  60  17471       1     162    64.0    140     90            1     1      0   \n",
            "46  61  18207       1     162   107.0    150     90            2     1      0   \n",
            "47  62  18535       2     168    69.0    120     80            1     1      0   \n",
            "48  63  16864       2     175    70.0    120     80            2     1      0   \n",
            "49  64  16045       1     170    69.0    120     70            1     1      0   \n",
            "\n",
            "    alco  active  cardio  cardio_predict  \n",
            "0      0       1       0               0  \n",
            "1      0       1       1               1  \n",
            "2      0       0       1               1  \n",
            "3      0       1       1               1  \n",
            "4      0       0       0               0  \n",
            "5      0       0       0               0  \n",
            "6      0       1       0               0  \n",
            "7      0       1       1               1  \n",
            "8      0       1       0               0  \n",
            "9      0       0       0               1  \n",
            "10     0       1       0               1  \n",
            "11     0       1       0               0  \n",
            "12     0       0       0               0  \n",
            "13     0       1       0               0  \n",
            "14     1       1       0               0  \n",
            "15     0       0       1               1  \n",
            "16     0       0       0               0  \n",
            "17     0       1       0               0  \n",
            "18     0       0       0               0  \n",
            "19     0       1       0               0  \n",
            "20     0       1       0               1  \n",
            "21     0       1       0               0  \n",
            "22     0       1       1               1  \n",
            "23     0       1       0               0  \n",
            "24     0       1       1               1  \n",
            "25     0       1       0               0  \n",
            "26     0       1       0               0  \n",
            "27     0       1       0               0  \n",
            "28     0       1       0               0  \n",
            "29     0       0       0               0  \n",
            "30     0       1       1               1  \n",
            "31     0       1       1               1  \n",
            "32     0       1       0               0  \n",
            "33     0       0       1               1  \n",
            "34     0       0       1               1  \n",
            "35     0       1       0               0  \n",
            "36     0       1       0               0  \n",
            "37     0       1       0               0  \n",
            "38     0       1       1               0  \n",
            "39     0       1       1               1  \n",
            "40     0       0       0               0  \n",
            "41     0       1       1               0  \n",
            "42     0       1       1               1  \n",
            "43     0       1       1               1  \n",
            "44     0       1       1               1  \n",
            "45     0       1       1               1  \n",
            "46     0       1       1               1  \n",
            "47     0       0       0               0  \n",
            "48     0       1       0               0  \n",
            "49     0       1       0               0  \n"
          ],
          "name": "stdout"
        }
      ]
    },
    {
      "cell_type": "code",
      "metadata": {
        "id": "UBqEUm9bBtgz",
        "colab_type": "code",
        "colab": {}
      },
      "source": [
        "# Evaluate the model\n",
        "from sklearn.metrics import confusion_matrix\n",
        "from sklearn.metrics import classification_report\n",
        "from sklearn.metrics import precision_score, recall_score, f1_score"
      ],
      "execution_count": 82,
      "outputs": []
    },
    {
      "cell_type": "code",
      "metadata": {
        "id": "ZlPPG9C0DJzr",
        "colab_type": "code",
        "colab": {
          "base_uri": "https://localhost:8080/",
          "height": 50
        },
        "outputId": "d99d3791-275a-4b1d-9c34-02217cddf059"
      },
      "source": [
        "# Create a confusion matrix using the confusion_matrix function\n",
        "print(confusion_matrix(y_test, y_preds))"
      ],
      "execution_count": 83,
      "outputs": [
        {
          "output_type": "stream",
          "text": [
            "[[5230 1821]\n",
            " [2033 4916]]\n"
          ],
          "name": "stdout"
        }
      ]
    },
    {
      "cell_type": "code",
      "metadata": {
        "id": "R97FJDcwDPNX",
        "colab_type": "code",
        "colab": {
          "base_uri": "https://localhost:8080/",
          "height": 168
        },
        "outputId": "9166064d-b064-46d8-eb49-532f0911af94"
      },
      "source": [
        "# Create a classification report using the classification_report function\n",
        "print(classification_report(y_test, y_preds))"
      ],
      "execution_count": 84,
      "outputs": [
        {
          "output_type": "stream",
          "text": [
            "              precision    recall  f1-score   support\n",
            "\n",
            "           0       0.72      0.74      0.73      7051\n",
            "           1       0.73      0.71      0.72      6949\n",
            "\n",
            "    accuracy                           0.72     14000\n",
            "   macro avg       0.72      0.72      0.72     14000\n",
            "weighted avg       0.72      0.72      0.72     14000\n",
            "\n"
          ],
          "name": "stdout"
        }
      ]
    },
    {
      "cell_type": "code",
      "metadata": {
        "id": "_FzMTxCigx2l",
        "colab_type": "code",
        "colab": {}
      },
      "source": [
        ""
      ],
      "execution_count": null,
      "outputs": []
    }
  ]
}